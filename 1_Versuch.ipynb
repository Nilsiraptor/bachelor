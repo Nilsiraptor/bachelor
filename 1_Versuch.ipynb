{
 "cells": [
  {
   "cell_type": "code",
   "execution_count": 1,
   "metadata": {
    "id": "ljxZSO20XyWf"
   },
   "outputs": [],
   "source": [
    "import numpy as np\n",
    "import matplotlib.pyplot as plt\n",
    "import time"
   ]
  },
  {
   "cell_type": "code",
   "execution_count": 2,
   "metadata": {
    "id": "XyKkUZisSo8R"
   },
   "outputs": [],
   "source": [
    "x_size = 37 + 2\n",
    "y_size = 30 + 2\n",
    "z_size = 25 + 2\n",
    "dx = 0.1 #m\n",
    "time_steps = 2000\n",
    "dt = 0.01 #s\n",
    "\n",
    "d = 0.1"
   ]
  },
  {
   "cell_type": "code",
   "execution_count": 3,
   "metadata": {
    "id": "3k88XZPSSr-p"
   },
   "outputs": [],
   "source": [
    "data = np.zeros((x_size, y_size, z_size, time_steps))"
   ]
  },
  {
   "cell_type": "code",
   "execution_count": 4,
   "metadata": {},
   "outputs": [
    {
     "name": "stdout",
     "output_type": "stream",
     "text": [
      "514.1602935791016 MB\n"
     ]
    }
   ],
   "source": [
    "import sys\n",
    "import gc\n",
    "\n",
    "def actualsize(input_obj):\n",
    "    memory_size = 0\n",
    "    ids = set()\n",
    "    objects = [input_obj]\n",
    "    while objects:\n",
    "        new = []\n",
    "        for obj in objects:\n",
    "            if id(obj) not in ids:\n",
    "                ids.add(id(obj))\n",
    "                memory_size += sys.getsizeof(obj)\n",
    "                new.append(obj)\n",
    "        objects = gc.get_referents(*new)\n",
    "    return memory_size\n",
    "print(actualsize(data)/2**20, \"MB\")"
   ]
  },
  {
   "cell_type": "code",
   "execution_count": null,
   "metadata": {
    "id": "ydqZGF8vhHpf"
   },
   "outputs": [],
   "source": [
    "t = time.time()\n",
    "for i in range(time_steps - 1):\n",
    "  #data[0, 0, 0, i] = 1.0\n",
    "  for x in range(1, x_size - 1):\n",
    "    for y in range(1, y_size - 1):\n",
    "      for z in range(1, z_size - 1):\n",
    "        border = (x == 1) + (y == 1) + (z == 1) + (x == x_size-2) + (y == y_size-2) + (z == z_size-2)\n",
    "        data[x, y, z, i+1] = data[x, y, z, i] + (d*dt/(dx**2)) * (data[x-1, y, z, i] + data[x+1, y, z, i] + data[x, y-1, z, i] + data[x, y+1, z, i] + data[x, y, z-1, i] + data[x, y, z+1, i] - (6 - border) * data[x, y, z, i])\n",
    "        if x == 6 and y == y_size//2 and z == 11:\n",
    "          data[x, y, z, i+1] += 1\n",
    "print(time.time() - t)"
   ]
  },
  {
   "cell_type": "code",
   "execution_count": null,
   "metadata": {
    "id": "ia0hyVthoTwM"
   },
   "outputs": [],
   "source": [
    "data[:, :, 1, 2]"
   ]
  },
  {
   "cell_type": "code",
   "execution_count": null,
   "metadata": {
    "id": "duHDV4krpdK8"
   },
   "outputs": [],
   "source": [
    "for i in np.linspace(1, time_steps-1, 3, dtype=np.int64):\n",
    "  plt.imshow(data[:, :, 1, i], cmap='hot', interpolation='nearest')\n",
    "  plt.show()"
   ]
  },
  {
   "cell_type": "code",
   "execution_count": null,
   "metadata": {
    "id": "j4_xsURN_jzC"
   },
   "outputs": [],
   "source": [
    "for i in np.linspace(1, z_size-2, 3, dtype=np.int64):\n",
    "  plt.imshow(data[:, :, i, time_steps-1], cmap='hot', interpolation='nearest')\n",
    "  plt.show()"
   ]
  },
  {
   "cell_type": "code",
   "execution_count": null,
   "metadata": {
    "id": "jktwx_9z_qWy"
   },
   "outputs": [],
   "source": [
    "plt.plot(data[x_size-7, y_size//2, 11, :])\n",
    "plt.show()"
   ]
  }
 ],
 "metadata": {
  "colab": {
   "collapsed_sections": [],
   "name": "1. Versuch",
   "provenance": []
  },
  "kernelspec": {
   "display_name": "Python 3 (ipykernel)",
   "language": "python",
   "name": "python3"
  },
  "language_info": {
   "codemirror_mode": {
    "name": "ipython",
    "version": 3
   },
   "file_extension": ".py",
   "mimetype": "text/x-python",
   "name": "python",
   "nbconvert_exporter": "python",
   "pygments_lexer": "ipython3",
   "version": "3.9.6"
  }
 },
 "nbformat": 4,
 "nbformat_minor": 4
}
